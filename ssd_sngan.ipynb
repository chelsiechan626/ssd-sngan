{
 "cells": [
  {
   "cell_type": "code",
   "execution_count": 1,
   "metadata": {
    "colab": {
     "base_uri": "https://localhost:8080/"
    },
    "id": "Dkfo0KKhKCNl",
    "outputId": "dc381151-e4f6-4963-9b56-c88c3206b7a0"
   },
   "outputs": [
    {
     "name": "stdout",
     "output_type": "stream",
     "text": [
      "Looking in indexes: https://pypi.org/simple, https://us-python.pkg.dev/colab-wheels/public/simple/\n",
      "Collecting torch==1.7.1\n",
      "  Downloading torch-1.7.1-cp39-cp39-manylinux1_x86_64.whl (776.8 MB)\n",
      "\u001b[2K     \u001b[90m━━━━━━━━━━━━━━━━━━━━━━━━━━━━━━━━━━━━━━━\u001b[0m \u001b[32m776.8/776.8 MB\u001b[0m \u001b[31m1.9 MB/s\u001b[0m eta \u001b[36m0:00:00\u001b[0m\n",
      "\u001b[?25hRequirement already satisfied: typing-extensions in /usr/local/lib/python3.9/dist-packages (from torch==1.7.1) (4.5.0)\n",
      "Requirement already satisfied: numpy in /usr/local/lib/python3.9/dist-packages (from torch==1.7.1) (1.22.4)\n",
      "Installing collected packages: torch\n",
      "  Attempting uninstall: torch\n",
      "    Found existing installation: torch 1.13.1+cu116\n",
      "    Uninstalling torch-1.13.1+cu116:\n",
      "      Successfully uninstalled torch-1.13.1+cu116\n",
      "\u001b[31mERROR: pip's dependency resolver does not currently take into account all the packages that are installed. This behaviour is the source of the following dependency conflicts.\n",
      "torchvision 0.14.1+cu116 requires torch==1.13.1, but you have torch 1.7.1 which is incompatible.\n",
      "torchtext 0.14.1 requires torch==1.13.1, but you have torch 1.7.1 which is incompatible.\n",
      "torchaudio 0.13.1+cu116 requires torch==1.13.1, but you have torch 1.7.1 which is incompatible.\u001b[0m\u001b[31m\n",
      "\u001b[0mSuccessfully installed torch-1.7.1\n",
      "Looking in indexes: https://pypi.org/simple, https://us-python.pkg.dev/colab-wheels/public/simple/\n",
      "Collecting torchvision==0.8.2\n",
      "  Downloading torchvision-0.8.2-cp39-cp39-manylinux1_x86_64.whl (12.7 MB)\n",
      "\u001b[2K     \u001b[90m━━━━━━━━━━━━━━━━━━━━━━━━━━━━━━━━━━━━━━━━\u001b[0m \u001b[32m12.7/12.7 MB\u001b[0m \u001b[31m78.7 MB/s\u001b[0m eta \u001b[36m0:00:00\u001b[0m\n",
      "\u001b[?25hRequirement already satisfied: pillow>=4.1.1 in /usr/local/lib/python3.9/dist-packages (from torchvision==0.8.2) (8.4.0)\n",
      "Requirement already satisfied: numpy in /usr/local/lib/python3.9/dist-packages (from torchvision==0.8.2) (1.22.4)\n",
      "Requirement already satisfied: torch==1.7.1 in /usr/local/lib/python3.9/dist-packages (from torchvision==0.8.2) (1.7.1)\n",
      "Requirement already satisfied: typing-extensions in /usr/local/lib/python3.9/dist-packages (from torch==1.7.1->torchvision==0.8.2) (4.5.0)\n",
      "Installing collected packages: torchvision\n",
      "  Attempting uninstall: torchvision\n",
      "    Found existing installation: torchvision 0.14.1+cu116\n",
      "    Uninstalling torchvision-0.14.1+cu116:\n",
      "      Successfully uninstalled torchvision-0.14.1+cu116\n",
      "Successfully installed torchvision-0.8.2\n",
      "Looking in indexes: https://pypi.org/simple, https://us-python.pkg.dev/colab-wheels/public/simple/\n",
      "Collecting torch-mimicry\n",
      "  Downloading torch_mimicry-0.1.16.tar.gz (57 kB)\n",
      "\u001b[2K     \u001b[90m━━━━━━━━━━━━━━━━━━━━━━━━━━━━━━━━━━━━━━━━\u001b[0m \u001b[32m57.7/57.7 KB\u001b[0m \u001b[31m3.5 MB/s\u001b[0m eta \u001b[36m0:00:00\u001b[0m\n",
      "\u001b[?25h  Preparing metadata (setup.py) ... \u001b[?25l\u001b[?25hdone\n",
      "Requirement already satisfied: numpy in /usr/local/lib/python3.9/dist-packages (from torch-mimicry) (1.22.4)\n",
      "Requirement already satisfied: scipy in /usr/local/lib/python3.9/dist-packages (from torch-mimicry) (1.10.1)\n",
      "Requirement already satisfied: requests in /usr/local/lib/python3.9/dist-packages (from torch-mimicry) (2.27.1)\n",
      "Requirement already satisfied: torch in /usr/local/lib/python3.9/dist-packages (from torch-mimicry) (1.7.1)\n",
      "Requirement already satisfied: tensorflow in /usr/local/lib/python3.9/dist-packages (from torch-mimicry) (2.12.0)\n",
      "Requirement already satisfied: torchvision in /usr/local/lib/python3.9/dist-packages (from torch-mimicry) (0.8.2)\n",
      "Requirement already satisfied: six in /usr/local/lib/python3.9/dist-packages (from torch-mimicry) (1.16.0)\n",
      "Requirement already satisfied: matplotlib in /usr/local/lib/python3.9/dist-packages (from torch-mimicry) (3.7.1)\n",
      "Requirement already satisfied: Pillow in /usr/local/lib/python3.9/dist-packages (from torch-mimicry) (8.4.0)\n",
      "Requirement already satisfied: scikit-image in /usr/local/lib/python3.9/dist-packages (from torch-mimicry) (0.19.3)\n",
      "Requirement already satisfied: pytest in /usr/local/lib/python3.9/dist-packages (from torch-mimicry) (7.2.2)\n",
      "Requirement already satisfied: scikit-learn in /usr/local/lib/python3.9/dist-packages (from torch-mimicry) (1.2.2)\n",
      "Requirement already satisfied: future in /usr/local/lib/python3.9/dist-packages (from torch-mimicry) (0.18.3)\n",
      "Collecting pytest-cov\n",
      "  Downloading pytest_cov-4.0.0-py3-none-any.whl (21 kB)\n",
      "Requirement already satisfied: pandas in /usr/local/lib/python3.9/dist-packages (from torch-mimicry) (1.4.4)\n",
      "Requirement already satisfied: psutil in /usr/local/lib/python3.9/dist-packages (from torch-mimicry) (5.9.4)\n",
      "Collecting yapf\n",
      "  Downloading yapf-0.32.0-py2.py3-none-any.whl (190 kB)\n",
      "\u001b[2K     \u001b[90m━━━━━━━━━━━━━━━━━━━━━━━━━━━━━━━━━━━━━━\u001b[0m \u001b[32m190.2/190.2 KB\u001b[0m \u001b[31m13.4 MB/s\u001b[0m eta \u001b[36m0:00:00\u001b[0m\n",
      "\u001b[?25hCollecting lmdb\n",
      "  Downloading lmdb-1.4.0-cp39-cp39-manylinux_2_12_x86_64.manylinux2010_x86_64.whl (305 kB)\n",
      "\u001b[2K     \u001b[90m━━━━━━━━━━━━━━━━━━━━━━━━━━━━━━━━━━━━━━\u001b[0m \u001b[32m305.9/305.9 KB\u001b[0m \u001b[31m25.0 MB/s\u001b[0m eta \u001b[36m0:00:00\u001b[0m\n",
      "\u001b[?25hRequirement already satisfied: contourpy>=1.0.1 in /usr/local/lib/python3.9/dist-packages (from matplotlib->torch-mimicry) (1.0.7)\n",
      "Requirement already satisfied: cycler>=0.10 in /usr/local/lib/python3.9/dist-packages (from matplotlib->torch-mimicry) (0.11.0)\n",
      "Requirement already satisfied: importlib-resources>=3.2.0 in /usr/local/lib/python3.9/dist-packages (from matplotlib->torch-mimicry) (5.12.0)\n",
      "Requirement already satisfied: packaging>=20.0 in /usr/local/lib/python3.9/dist-packages (from matplotlib->torch-mimicry) (23.0)\n",
      "Requirement already satisfied: fonttools>=4.22.0 in /usr/local/lib/python3.9/dist-packages (from matplotlib->torch-mimicry) (4.39.3)\n",
      "Requirement already satisfied: python-dateutil>=2.7 in /usr/local/lib/python3.9/dist-packages (from matplotlib->torch-mimicry) (2.8.2)\n",
      "Requirement already satisfied: kiwisolver>=1.0.1 in /usr/local/lib/python3.9/dist-packages (from matplotlib->torch-mimicry) (1.4.4)\n",
      "Requirement already satisfied: pyparsing>=2.3.1 in /usr/local/lib/python3.9/dist-packages (from matplotlib->torch-mimicry) (3.0.9)\n",
      "Requirement already satisfied: pytz>=2020.1 in /usr/local/lib/python3.9/dist-packages (from pandas->torch-mimicry) (2022.7.1)\n",
      "Requirement already satisfied: attrs>=19.2.0 in /usr/local/lib/python3.9/dist-packages (from pytest->torch-mimicry) (22.2.0)\n",
      "Requirement already satisfied: tomli>=1.0.0 in /usr/local/lib/python3.9/dist-packages (from pytest->torch-mimicry) (2.0.1)\n",
      "Requirement already satisfied: iniconfig in /usr/local/lib/python3.9/dist-packages (from pytest->torch-mimicry) (2.0.0)\n",
      "Requirement already satisfied: exceptiongroup>=1.0.0rc8 in /usr/local/lib/python3.9/dist-packages (from pytest->torch-mimicry) (1.1.1)\n",
      "Requirement already satisfied: pluggy<2.0,>=0.12 in /usr/local/lib/python3.9/dist-packages (from pytest->torch-mimicry) (1.0.0)\n",
      "Collecting coverage[toml]>=5.2.1\n",
      "  Downloading coverage-7.2.2-cp39-cp39-manylinux_2_5_x86_64.manylinux1_x86_64.manylinux_2_17_x86_64.manylinux2014_x86_64.whl (227 kB)\n",
      "\u001b[2K     \u001b[90m━━━━━━━━━━━━━━━━━━━━━━━━━━━━━━━━━━━━━━\u001b[0m \u001b[32m227.0/227.0 KB\u001b[0m \u001b[31m22.3 MB/s\u001b[0m eta \u001b[36m0:00:00\u001b[0m\n",
      "\u001b[?25hRequirement already satisfied: urllib3<1.27,>=1.21.1 in /usr/local/lib/python3.9/dist-packages (from requests->torch-mimicry) (1.26.15)\n",
      "Requirement already satisfied: charset-normalizer~=2.0.0 in /usr/local/lib/python3.9/dist-packages (from requests->torch-mimicry) (2.0.12)\n",
      "Requirement already satisfied: certifi>=2017.4.17 in /usr/local/lib/python3.9/dist-packages (from requests->torch-mimicry) (2022.12.7)\n",
      "Requirement already satisfied: idna<4,>=2.5 in /usr/local/lib/python3.9/dist-packages (from requests->torch-mimicry) (3.4)\n",
      "Requirement already satisfied: imageio>=2.4.1 in /usr/local/lib/python3.9/dist-packages (from scikit-image->torch-mimicry) (2.25.1)\n",
      "Requirement already satisfied: networkx>=2.2 in /usr/local/lib/python3.9/dist-packages (from scikit-image->torch-mimicry) (3.0)\n",
      "Requirement already satisfied: PyWavelets>=1.1.1 in /usr/local/lib/python3.9/dist-packages (from scikit-image->torch-mimicry) (1.4.1)\n",
      "Requirement already satisfied: tifffile>=2019.7.26 in /usr/local/lib/python3.9/dist-packages (from scikit-image->torch-mimicry) (2023.3.21)\n",
      "Requirement already satisfied: joblib>=1.1.1 in /usr/local/lib/python3.9/dist-packages (from scikit-learn->torch-mimicry) (1.1.1)\n",
      "Requirement already satisfied: threadpoolctl>=2.0.0 in /usr/local/lib/python3.9/dist-packages (from scikit-learn->torch-mimicry) (3.1.0)\n",
      "Requirement already satisfied: google-pasta>=0.1.1 in /usr/local/lib/python3.9/dist-packages (from tensorflow->torch-mimicry) (0.2.0)\n",
      "Requirement already satisfied: astunparse>=1.6.0 in /usr/local/lib/python3.9/dist-packages (from tensorflow->torch-mimicry) (1.6.3)\n",
      "Requirement already satisfied: setuptools in /usr/local/lib/python3.9/dist-packages (from tensorflow->torch-mimicry) (67.6.1)\n",
      "Requirement already satisfied: h5py>=2.9.0 in /usr/local/lib/python3.9/dist-packages (from tensorflow->torch-mimicry) (3.8.0)\n",
      "Requirement already satisfied: opt-einsum>=2.3.2 in /usr/local/lib/python3.9/dist-packages (from tensorflow->torch-mimicry) (3.3.0)\n",
      "Requirement already satisfied: grpcio<2.0,>=1.24.3 in /usr/local/lib/python3.9/dist-packages (from tensorflow->torch-mimicry) (1.53.0)\n",
      "Requirement already satisfied: tensorflow-estimator<2.13,>=2.12.0 in /usr/local/lib/python3.9/dist-packages (from tensorflow->torch-mimicry) (2.12.0)\n",
      "Requirement already satisfied: termcolor>=1.1.0 in /usr/local/lib/python3.9/dist-packages (from tensorflow->torch-mimicry) (2.2.0)\n",
      "Requirement already satisfied: typing-extensions>=3.6.6 in /usr/local/lib/python3.9/dist-packages (from tensorflow->torch-mimicry) (4.5.0)\n",
      "Requirement already satisfied: absl-py>=1.0.0 in /usr/local/lib/python3.9/dist-packages (from tensorflow->torch-mimicry) (1.4.0)\n",
      "Requirement already satisfied: tensorboard<2.13,>=2.12 in /usr/local/lib/python3.9/dist-packages (from tensorflow->torch-mimicry) (2.12.0)\n",
      "Requirement already satisfied: gast<=0.4.0,>=0.2.1 in /usr/local/lib/python3.9/dist-packages (from tensorflow->torch-mimicry) (0.4.0)\n",
      "Requirement already satisfied: jax>=0.3.15 in /usr/local/lib/python3.9/dist-packages (from tensorflow->torch-mimicry) (0.4.7)\n",
      "Requirement already satisfied: flatbuffers>=2.0 in /usr/local/lib/python3.9/dist-packages (from tensorflow->torch-mimicry) (23.3.3)\n",
      "Requirement already satisfied: keras<2.13,>=2.12.0 in /usr/local/lib/python3.9/dist-packages (from tensorflow->torch-mimicry) (2.12.0)\n",
      "Requirement already satisfied: libclang>=13.0.0 in /usr/local/lib/python3.9/dist-packages (from tensorflow->torch-mimicry) (16.0.0)\n",
      "Requirement already satisfied: wrapt<1.15,>=1.11.0 in /usr/local/lib/python3.9/dist-packages (from tensorflow->torch-mimicry) (1.14.1)\n",
      "Requirement already satisfied: protobuf!=4.21.0,!=4.21.1,!=4.21.2,!=4.21.3,!=4.21.4,!=4.21.5,<5.0.0dev,>=3.20.3 in /usr/local/lib/python3.9/dist-packages (from tensorflow->torch-mimicry) (3.20.3)\n",
      "Requirement already satisfied: tensorflow-io-gcs-filesystem>=0.23.1 in /usr/local/lib/python3.9/dist-packages (from tensorflow->torch-mimicry) (0.32.0)\n",
      "Requirement already satisfied: wheel<1.0,>=0.23.0 in /usr/local/lib/python3.9/dist-packages (from astunparse>=1.6.0->tensorflow->torch-mimicry) (0.40.0)\n",
      "Requirement already satisfied: zipp>=3.1.0 in /usr/local/lib/python3.9/dist-packages (from importlib-resources>=3.2.0->matplotlib->torch-mimicry) (3.15.0)\n",
      "Requirement already satisfied: ml-dtypes>=0.0.3 in /usr/local/lib/python3.9/dist-packages (from jax>=0.3.15->tensorflow->torch-mimicry) (0.0.4)\n",
      "Requirement already satisfied: tensorboard-data-server<0.8.0,>=0.7.0 in /usr/local/lib/python3.9/dist-packages (from tensorboard<2.13,>=2.12->tensorflow->torch-mimicry) (0.7.0)\n",
      "Requirement already satisfied: google-auth-oauthlib<0.5,>=0.4.1 in /usr/local/lib/python3.9/dist-packages (from tensorboard<2.13,>=2.12->tensorflow->torch-mimicry) (0.4.6)\n",
      "Requirement already satisfied: tensorboard-plugin-wit>=1.6.0 in /usr/local/lib/python3.9/dist-packages (from tensorboard<2.13,>=2.12->tensorflow->torch-mimicry) (1.8.1)\n",
      "Requirement already satisfied: werkzeug>=1.0.1 in /usr/local/lib/python3.9/dist-packages (from tensorboard<2.13,>=2.12->tensorflow->torch-mimicry) (2.2.3)\n",
      "Requirement already satisfied: markdown>=2.6.8 in /usr/local/lib/python3.9/dist-packages (from tensorboard<2.13,>=2.12->tensorflow->torch-mimicry) (3.4.3)\n",
      "Requirement already satisfied: google-auth<3,>=1.6.3 in /usr/local/lib/python3.9/dist-packages (from tensorboard<2.13,>=2.12->tensorflow->torch-mimicry) (2.17.0)\n",
      "Requirement already satisfied: rsa<5,>=3.1.4 in /usr/local/lib/python3.9/dist-packages (from google-auth<3,>=1.6.3->tensorboard<2.13,>=2.12->tensorflow->torch-mimicry) (4.9)\n",
      "Requirement already satisfied: cachetools<6.0,>=2.0.0 in /usr/local/lib/python3.9/dist-packages (from google-auth<3,>=1.6.3->tensorboard<2.13,>=2.12->tensorflow->torch-mimicry) (5.3.0)\n",
      "Requirement already satisfied: pyasn1-modules>=0.2.1 in /usr/local/lib/python3.9/dist-packages (from google-auth<3,>=1.6.3->tensorboard<2.13,>=2.12->tensorflow->torch-mimicry) (0.2.8)\n",
      "Requirement already satisfied: requests-oauthlib>=0.7.0 in /usr/local/lib/python3.9/dist-packages (from google-auth-oauthlib<0.5,>=0.4.1->tensorboard<2.13,>=2.12->tensorflow->torch-mimicry) (1.3.1)\n",
      "Requirement already satisfied: importlib-metadata>=4.4 in /usr/local/lib/python3.9/dist-packages (from markdown>=2.6.8->tensorboard<2.13,>=2.12->tensorflow->torch-mimicry) (6.1.0)\n",
      "Requirement already satisfied: MarkupSafe>=2.1.1 in /usr/local/lib/python3.9/dist-packages (from werkzeug>=1.0.1->tensorboard<2.13,>=2.12->tensorflow->torch-mimicry) (2.1.2)\n",
      "Requirement already satisfied: pyasn1<0.5.0,>=0.4.6 in /usr/local/lib/python3.9/dist-packages (from pyasn1-modules>=0.2.1->google-auth<3,>=1.6.3->tensorboard<2.13,>=2.12->tensorflow->torch-mimicry) (0.4.8)\n",
      "Requirement already satisfied: oauthlib>=3.0.0 in /usr/local/lib/python3.9/dist-packages (from requests-oauthlib>=0.7.0->google-auth-oauthlib<0.5,>=0.4.1->tensorboard<2.13,>=2.12->tensorflow->torch-mimicry) (3.2.2)\n",
      "Building wheels for collected packages: torch-mimicry\n",
      "  Building wheel for torch-mimicry (setup.py) ... \u001b[?25l\u001b[?25hdone\n",
      "  Created wheel for torch-mimicry: filename=torch_mimicry-0.1.16-py3-none-any.whl size=109831 sha256=6bf934fe2e893269185f784bd3f718945017ea0df391bcfd10a13fcba613d89f\n",
      "  Stored in directory: /root/.cache/pip/wheels/92/6e/46/bab53d2644c75cc93be4f9c7e04e9f223cbb4d90ab591faf6f\n",
      "Successfully built torch-mimicry\n",
      "Installing collected packages: yapf, lmdb, coverage, pytest-cov, torch-mimicry\n",
      "Successfully installed coverage-7.2.2 lmdb-1.4.0 pytest-cov-4.0.0 torch-mimicry-0.1.16 yapf-0.32.0\n"
     ]
    }
   ],
   "source": [
    "!pip install torch==1.7.1\n",
    "!pip install torchvision==0.8.2\n",
    "!pip install torch-mimicry"
   ]
  },
  {
   "cell_type": "code",
   "execution_count": 2,
   "metadata": {
    "id": "MlL_KaAUKwq-"
   },
   "outputs": [],
   "source": [
    "import torch\n",
    "import torch.optim as optim\n",
    "import torch_mimicry as mmc"
   ]
  },
  {
   "cell_type": "code",
   "execution_count": 3,
   "metadata": {
    "colab": {
     "base_uri": "https://localhost:8080/"
    },
    "id": "Gp5KOsvbK1zi",
    "outputId": "110ce61d-2b20-491a-a3a9-0e662fac9562"
   },
   "outputs": [
    {
     "name": "stdout",
     "output_type": "stream",
     "text": [
      "Mounted at /content/drive/\n"
     ]
    }
   ],
   "source": [
    "from google.colab import drive\n",
    "drive.mount('/content/drive/')"
   ]
  },
  {
   "cell_type": "code",
   "execution_count": 5,
   "metadata": {
    "id": "t9zk4DP_K8QD"
   },
   "outputs": [],
   "source": [
    "import sys\n",
    "sys.path.append('/content/drive/MyDrive/SSD-GAN-main')\n",
    "import models.ssd_sngan_32 as ssd_sngan"
   ]
  },
  {
   "cell_type": "code",
   "execution_count": null,
   "metadata": {
    "id": "Xuw7kRvKLDu_"
   },
   "outputs": [],
   "source": []
  },
  {
   "cell_type": "code",
   "execution_count": 6,
   "metadata": {
    "id": "ONwaIn4QzfDa"
   },
   "outputs": [],
   "source": [
    "# 支持选择图片库 ('CIFAR10', 'CIFAR100', 'STL10', 'FashionMNIST' )，选择sample size，选择image大小，和grayscale\n",
    "import os\n",
    "from torch.utils.data import random_split\n",
    "from torchvision import transforms, datasets\n",
    "\n",
    "def dataset_split_shape(name, n = 1000, size = 32, grayScale = False, convert_tensor=True, transform_data = True, root='./datasets/', download=True):\n",
    "  \n",
    "  dataset_dir = os.path.join(root, f\"{name}_{n}_{size}\")\n",
    "  if not os.path.exists(dataset_dir):\n",
    "    os.makedirs(dataset_dir)\n",
    "\n",
    "  if transform_data:\n",
    "    transform_list = [transforms.ToTensor(),\n",
    "                      transforms.Resize(size)]\n",
    "    if grayScale:\n",
    "      transform_list.append(transforms.Grayscale()) \n",
    "    if convert_tensor:\n",
    "      transform_list.append(transforms.Normalize((0.5, ), (0.5, )))\n",
    "  else:\n",
    "    transform_list = []\n",
    "\n",
    "  transformer = transforms.Compose(transform_list)\n",
    "\n",
    "  if name == 'CIFAR10': \n",
    "    dataset = datasets.CIFAR10(\n",
    "      root=dataset_dir,\n",
    "      download=download,\n",
    "      transform=transforms.Compose(transform_list)\n",
    "  )\n",
    "  elif name == 'CIFAR100': \n",
    "    dataset = datasets.CIFAR100(\n",
    "      root=dataset_dir,\n",
    "      download=download,\n",
    "      transform=transforms.Compose(transform_list)\n",
    "  )\n",
    "  elif name == 'STL10': #与原package相同，默认选择unlabeled的数据\n",
    "    dataset = datasets.STL10(\n",
    "      root=dataset_dir,\n",
    "      download=download,\n",
    "      split='unlabeled',\n",
    "      transform=transforms.Compose(transform_list)\n",
    "  )\n",
    "  elif name == 'FashionMNIST': \n",
    "    dataset = datasets.FashionMNIST(\n",
    "      root=dataset_dir,\n",
    "      download=download,\n",
    "      transform=transforms.Compose(transform_list)\n",
    "  )\n",
    "  else:\n",
    "    print(\"invalid name\")\n",
    "    return \n",
    "  if n is None or n > len(dataset):\n",
    "    return dataset\n",
    "  generator1 = torch.Generator().manual_seed(42)\n",
    "  a, b = random_split(dataset, [n, len(dataset)-n], generator = generator1)\n",
    "  return a"
   ]
  },
  {
   "cell_type": "code",
   "execution_count": null,
   "metadata": {
    "id": "PLqEnvDgLGnt"
   },
   "outputs": [],
   "source": []
  },
  {
   "cell_type": "code",
   "execution_count": 7,
   "metadata": {
    "colab": {
     "base_uri": "https://localhost:8080/",
     "height": 85,
     "referenced_widgets": [
      "450a0f6f61b74ec89636c55562b7ed57",
      "8ddf3db0475d4a0ea76e5c490b482a0c",
      "41016285b4ee46aab2c08c9a7a984a78",
      "f8367fa6a35d455ea9dae05904d6fa0c",
      "d6ad7aa37aac4782b35b1742a41eb842",
      "c9ce8a712aa94a62930e589e063d9451",
      "cdbbff5296014b9e9310bfa2cbc6f3e4",
      "4f13cc7b4c044aa9af74c14fa74f6f10",
      "59fd0aa3c05347d88d2697e2ef255d3c",
      "eedbf862859346cd8eb2c4b714ec4339",
      "4669c685a80942fb8dc512e85a22b025"
     ]
    },
    "id": "hS5omMM04k61",
    "outputId": "a1badbbb-8fe3-41c7-ca81-52155855ed3c"
   },
   "outputs": [
    {
     "name": "stdout",
     "output_type": "stream",
     "text": [
      "Downloading https://www.cs.toronto.edu/~kriz/cifar-10-python.tar.gz to ./datasets/CIFAR10_500_32/cifar-10-python.tar.gz\n"
     ]
    },
    {
     "data": {
      "application/vnd.jupyter.widget-view+json": {
       "model_id": "450a0f6f61b74ec89636c55562b7ed57",
       "version_major": 2,
       "version_minor": 0
      },
      "text/plain": [
       "0it [00:00, ?it/s]"
      ]
     },
     "metadata": {},
     "output_type": "display_data"
    },
    {
     "name": "stdout",
     "output_type": "stream",
     "text": [
      "Extracting ./datasets/CIFAR10_500_32/cifar-10-python.tar.gz to ./datasets/CIFAR10_500_32\n"
     ]
    }
   ],
   "source": [
    "#选取CIFAR里面的500张图，size改为32*32\n",
    "CIFAR10_500_32 = dataset_split_shape('CIFAR10', n = 500, size = 32)"
   ]
  },
  {
   "cell_type": "code",
   "execution_count": null,
   "metadata": {
    "id": "eu1PxpihLK2P"
   },
   "outputs": [],
   "source": []
  },
  {
   "cell_type": "code",
   "execution_count": 8,
   "metadata": {
    "colab": {
     "base_uri": "https://localhost:8080/"
    },
    "id": "M5aIQQOv12hO",
    "outputId": "bbdd37bc-f976-4a64-e8d4-3a8fa00bb0db"
   },
   "outputs": [
    {
     "name": "stdout",
     "output_type": "stream",
     "text": [
      "check dataset\n",
      "number of images: 500\n",
      "shape of images: torch.Size([3, 32, 32])\n"
     ]
    }
   ],
   "source": [
    "print('check dataset')\n",
    "print(f\"number of images: {len(CIFAR10_500_32)}\")\n",
    "print(f\"shape of images: {CIFAR10_500_32[0][0].shape}\")"
   ]
  },
  {
   "cell_type": "code",
   "execution_count": null,
   "metadata": {
    "id": "jnH1La2XLNfJ"
   },
   "outputs": [],
   "source": []
  },
  {
   "cell_type": "code",
   "execution_count": 10,
   "metadata": {
    "id": "uo0O40criO4J"
   },
   "outputs": [],
   "source": [
    "#建立dataloader\n",
    "device = torch.device('cuda:0' if torch.cuda.is_available() else \"cpu\")\n",
    "CIFAR10_500_32_dataloader = torch.utils.data.DataLoader(\n",
    "    CIFAR10_500_32, batch_size=64, shuffle=True, num_workers=4)"
   ]
  },
  {
   "cell_type": "markdown",
   "metadata": {
    "id": "-oOT7B_2LQLX"
   },
   "source": []
  },
  {
   "cell_type": "code",
   "execution_count": null,
   "metadata": {
    "id": "fIEhq1ehLQfv"
   },
   "outputs": [],
   "source": []
  },
  {
   "cell_type": "code",
   "execution_count": 11,
   "metadata": {
    "id": "y9kk3Og7R5m1"
   },
   "outputs": [],
   "source": [
    "# Define models and optimizers\n",
    "netG = ssd_sngan.SSD_SNGANGenerator32().to(device)\n",
    "netD = ssd_sngan.SSD_SNGANDiscriminator32().to(device)\n",
    "optD = optim.Adam(netD.parameters(), 2e-4, betas=(0.0, 0.9))\n",
    "optG = optim.Adam(netG.parameters(), 2e-4, betas=(0.0, 0.9))\n",
    "\n",
    "# Start training\n",
    "trainer = mmc.training.Trainer(\n",
    "    netD=netD,\n",
    "    netG=netG,\n",
    "    optD=optD,\n",
    "    optG=optG,\n",
    "    n_dis=1000,\n",
    "    num_steps=5, # number of iterations\n",
    "    lr_decay='linear',\n",
    "    dataloader= CIFAR10_500_32_dataloader,\n",
    "    log_dir='./log/CIFAR10_500_32', #自定义地址\n",
    "    device=device)"
   ]
  },
  {
   "cell_type": "code",
   "execution_count": 12,
   "metadata": {
    "colab": {
     "base_uri": "https://localhost:8080/"
    },
    "id": "C6fWEfAhLXPG",
    "outputId": "ce9c8fb8-925c-432f-9529-fc37856e8e7d"
   },
   "outputs": [
    {
     "name": "stdout",
     "output_type": "stream",
     "text": [
      "INFO: Starting training from global step 0...\n"
     ]
    },
    {
     "name": "stderr",
     "output_type": "stream",
     "text": [
      "/content/drive/MyDrive/SSD-GAN-main/get_fft_feature.py:50: UserWarning: The function torch.rfft is deprecated and will be removed in a future PyTorch release. Use the new torch.fft module functions, instead, by importing torch.fft and calling torch.fft.fft or torch.fft.rfft. (Triggered internally at  /pytorch/aten/src/ATen/native/SpectralOps.cpp:590.)\n",
      "  fft = torch.rfft(x_gray,2,onesided=False)\n"
     ]
    },
    {
     "name": "stdout",
     "output_type": "stream",
     "text": [
      "INFO: [Epoch 1/1][Global Step: 1/5] \n",
      "| D(G(z)): 1.6799\n",
      "| D(x): 2.0503\n",
      "| errC: 1.9801\n",
      "| errD: 2.6799\n",
      "| errG: 4.2677\n",
      "| lr_D: 0.00016\n",
      "| lr_G: 0.00016\n",
      "| (73.7939 sec/idx)\n",
      "INFO: Saving checkpoints from keyboard interrupt...\n",
      "INFO: Training Ended.\n"
     ]
    }
   ],
   "source": [
    "trainer.train()"
   ]
  },
  {
   "cell_type": "code",
   "execution_count": null,
   "metadata": {
    "id": "deZ7L0DWLnSY"
   },
   "outputs": [],
   "source": [
    "#如果metric是fid, 则需自定义stats_file,num_samples = number of real images;\n",
    "def create_stats_file(log_dir, num_real_samples, seed, dataset, metric):\n",
    "  stats_dir = os.path.join(log_dir, 'metrics', metric, 'statistics')\n",
    "  if not os.path.exists(stats_dir):\n",
    "    os.makedirs(stats_dir)\n",
    "\n",
    "  stats_file = os.path.join(\n",
    "            stats_dir,\n",
    "            \"fid_stats_{}_{}k_run_{}.npz\".format(dataset, num_real_samples // 1000,\n",
    "                                                 seed))\n",
    "  return stats_file\n",
    "\n",
    "#如果metric是kid: \n",
    "def create_feat_file(log_dir, num_samples, seed, dataset, metric):\n",
    "  stats_dir = os.path.join(log_dir, 'metrics', metric, 'statistics')\n",
    "  if not os.path.exists(stats_dir):\n",
    "    os.makedirs(stats_dir)\n",
    "\n",
    "  stats_file = os.path.join(\n",
    "            stats_dir,\n",
    "            \"fid_stats_{}_{}k_run_{}.npz\".format(dataset, num_samples // 1000,\n",
    "                                                 seed))\n",
    "  return stats_file\n",
    "\n"
   ]
  },
  {
   "cell_type": "code",
   "execution_count": null,
   "metadata": {
    "id": "MRCpvVHXLoDk"
   },
   "outputs": [],
   "source": [
    "#fid举例\n",
    "mmc.metrics.evaluate(\n",
    "    metric='fid',\n",
    "    log_dir='./log/CIFAR10_500_32',\n",
    "    netG=netG,\n",
    "    num_real_samples = 500,\n",
    "    num_fake_samples = 500, \n",
    "    dataset = CIFAR10_500_32,\n",
    "    evaluate_step=1000,\n",
    "    start_seed=0,\n",
    "    num_runs=1,\n",
    "    device=device,\n",
    "    stats_file = create_stats_file('./log/CIFAR10_500_32', 20, 0, CIFAR10_500_32, 'fid'))"
   ]
  },
  {
   "cell_type": "code",
   "execution_count": null,
   "metadata": {
    "id": "InKZTYBMLuAl"
   },
   "outputs": [],
   "source": [
    "# kid举例\n",
    "mmc.metrics.evaluate(\n",
    "    metric='kid',\n",
    "    log_dir='./log/CIFAR10_500_32',\n",
    "    netG=netG,\n",
    "    num_samples = 500,\n",
    "    dataset = CIFAR10_500_32,\n",
    "    evaluate_step=1000,\n",
    "    start_seed=0,\n",
    "    num_runs=1,\n",
    "    device=device,\n",
    "    feat_file = create_feat_file('./log/CIFAR10_500_32', 80, 0, CIFAR10_500_32, 'kid'))"
   ]
  },
  {
   "cell_type": "code",
   "execution_count": null,
   "metadata": {
    "id": "c-Xp_MnzLwWy"
   },
   "outputs": [],
   "source": [
    "#IC举例\n",
    "mmc.metrics.evaluate(\n",
    "    metric='inception_score',\n",
    "    log_dir='./log/CIFAR10_500_32',\n",
    "    netG=netG,\n",
    "    num_samples = 500,\n",
    "    evaluate_step=1000,\n",
    "    start_seed=0,\n",
    "    num_runs=1,\n",
    "    device=device)\n"
   ]
  },
  {
   "cell_type": "code",
   "execution_count": null,
   "metadata": {
    "id": "uwTgb72ZM_Be"
   },
   "outputs": [],
   "source": []
  },
  {
   "cell_type": "code",
   "execution_count": null,
   "metadata": {
    "colab": {
     "base_uri": "https://localhost:8080/",
     "height": 191
    },
    "id": "4p--Nsjqbt0B",
    "outputId": "7f275e10-2e33-493c-9fc1-53339209863a"
   },
   "outputs": [
    {
     "ename": "NameError",
     "evalue": "ignored",
     "output_type": "error",
     "traceback": [
      "\u001b[0;31m---------------------------------------------------------------------------\u001b[0m",
      "\u001b[0;31mNameError\u001b[0m                                 Traceback (most recent call last)",
      "\u001b[0;32m<ipython-input-2-41f9fa0d4dd5>\u001b[0m in \u001b[0;36m<cell line: 1>\u001b[0;34m()\u001b[0m\n\u001b[0;32m----> 1\u001b[0;31m \u001b[0mLog\u001b[0m\u001b[0;34m=\u001b[0m\u001b[0mmmc\u001b[0m\u001b[0;34m.\u001b[0m\u001b[0mtraining\u001b[0m\u001b[0;34m.\u001b[0m\u001b[0mLogger\u001b[0m\u001b[0;34m(\u001b[0m\u001b[0mlog_dir\u001b[0m\u001b[0;34m=\u001b[0m\u001b[0;34m'./log/CIFAR10_500_32'\u001b[0m\u001b[0;34m,\u001b[0m \u001b[0mnum_steps\u001b[0m\u001b[0;34m=\u001b[0m\u001b[0;36m100\u001b[0m\u001b[0;34m,\u001b[0m \u001b[0mdataset_size\u001b[0m\u001b[0;34m=\u001b[0m\u001b[0;36m20\u001b[0m\u001b[0;34m,\u001b[0m \u001b[0mdevice\u001b[0m\u001b[0;34m=\u001b[0m\u001b[0mdevice\u001b[0m\u001b[0;34m)\u001b[0m\u001b[0;34m\u001b[0m\u001b[0;34m\u001b[0m\u001b[0m\n\u001b[0m",
      "\u001b[0;31mNameError\u001b[0m: name 'mmc' is not defined"
     ]
    }
   ],
   "source": [
    "Log=mmc.training.Logger(log_dir='./log/CIFAR10_500_32', num_steps=1000, dataset_size=500, device=device)"
   ]
  },
  {
   "cell_type": "code",
   "execution_count": null,
   "metadata": {
    "id": "P1fKZ1xwNM0K"
   },
   "outputs": [],
   "source": [
    "Log.vis_images(netG=netG,global_step=1000)"
   ]
  }
 ],
 "metadata": {
  "colab": {
   "provenance": []
  },
  "kernelspec": {
   "display_name": "Python 3 (ipykernel)",
   "language": "python",
   "name": "python3"
  },
  "language_info": {
   "codemirror_mode": {
    "name": "ipython",
    "version": 3
   },
   "file_extension": ".py",
   "mimetype": "text/x-python",
   "name": "python",
   "nbconvert_exporter": "python",
   "pygments_lexer": "ipython3",
   "version": "3.9.16"
  },
  "widgets": {
   "application/vnd.jupyter.widget-state+json": {
    "41016285b4ee46aab2c08c9a7a984a78": {
     "model_module": "@jupyter-widgets/controls",
     "model_module_version": "1.5.0",
     "model_name": "FloatProgressModel",
     "state": {
      "_dom_classes": [],
      "_model_module": "@jupyter-widgets/controls",
      "_model_module_version": "1.5.0",
      "_model_name": "FloatProgressModel",
      "_view_count": null,
      "_view_module": "@jupyter-widgets/controls",
      "_view_module_version": "1.5.0",
      "_view_name": "ProgressView",
      "bar_style": "info",
      "description": "",
      "description_tooltip": null,
      "layout": "IPY_MODEL_4f13cc7b4c044aa9af74c14fa74f6f10",
      "max": 1,
      "min": 0,
      "orientation": "horizontal",
      "style": "IPY_MODEL_59fd0aa3c05347d88d2697e2ef255d3c",
      "value": 1
     }
    },
    "450a0f6f61b74ec89636c55562b7ed57": {
     "model_module": "@jupyter-widgets/controls",
     "model_module_version": "1.5.0",
     "model_name": "HBoxModel",
     "state": {
      "_dom_classes": [],
      "_model_module": "@jupyter-widgets/controls",
      "_model_module_version": "1.5.0",
      "_model_name": "HBoxModel",
      "_view_count": null,
      "_view_module": "@jupyter-widgets/controls",
      "_view_module_version": "1.5.0",
      "_view_name": "HBoxView",
      "box_style": "",
      "children": [
       "IPY_MODEL_8ddf3db0475d4a0ea76e5c490b482a0c",
       "IPY_MODEL_41016285b4ee46aab2c08c9a7a984a78",
       "IPY_MODEL_f8367fa6a35d455ea9dae05904d6fa0c"
      ],
      "layout": "IPY_MODEL_d6ad7aa37aac4782b35b1742a41eb842"
     }
    },
    "4669c685a80942fb8dc512e85a22b025": {
     "model_module": "@jupyter-widgets/controls",
     "model_module_version": "1.5.0",
     "model_name": "DescriptionStyleModel",
     "state": {
      "_model_module": "@jupyter-widgets/controls",
      "_model_module_version": "1.5.0",
      "_model_name": "DescriptionStyleModel",
      "_view_count": null,
      "_view_module": "@jupyter-widgets/base",
      "_view_module_version": "1.2.0",
      "_view_name": "StyleView",
      "description_width": ""
     }
    },
    "4f13cc7b4c044aa9af74c14fa74f6f10": {
     "model_module": "@jupyter-widgets/base",
     "model_module_version": "1.2.0",
     "model_name": "LayoutModel",
     "state": {
      "_model_module": "@jupyter-widgets/base",
      "_model_module_version": "1.2.0",
      "_model_name": "LayoutModel",
      "_view_count": null,
      "_view_module": "@jupyter-widgets/base",
      "_view_module_version": "1.2.0",
      "_view_name": "LayoutView",
      "align_content": null,
      "align_items": null,
      "align_self": null,
      "border": null,
      "bottom": null,
      "display": null,
      "flex": null,
      "flex_flow": null,
      "grid_area": null,
      "grid_auto_columns": null,
      "grid_auto_flow": null,
      "grid_auto_rows": null,
      "grid_column": null,
      "grid_gap": null,
      "grid_row": null,
      "grid_template_areas": null,
      "grid_template_columns": null,
      "grid_template_rows": null,
      "height": null,
      "justify_content": null,
      "justify_items": null,
      "left": null,
      "margin": null,
      "max_height": null,
      "max_width": null,
      "min_height": null,
      "min_width": null,
      "object_fit": null,
      "object_position": null,
      "order": null,
      "overflow": null,
      "overflow_x": null,
      "overflow_y": null,
      "padding": null,
      "right": null,
      "top": null,
      "visibility": null,
      "width": "20px"
     }
    },
    "59fd0aa3c05347d88d2697e2ef255d3c": {
     "model_module": "@jupyter-widgets/controls",
     "model_module_version": "1.5.0",
     "model_name": "ProgressStyleModel",
     "state": {
      "_model_module": "@jupyter-widgets/controls",
      "_model_module_version": "1.5.0",
      "_model_name": "ProgressStyleModel",
      "_view_count": null,
      "_view_module": "@jupyter-widgets/base",
      "_view_module_version": "1.2.0",
      "_view_name": "StyleView",
      "bar_color": null,
      "description_width": ""
     }
    },
    "8ddf3db0475d4a0ea76e5c490b482a0c": {
     "model_module": "@jupyter-widgets/controls",
     "model_module_version": "1.5.0",
     "model_name": "HTMLModel",
     "state": {
      "_dom_classes": [],
      "_model_module": "@jupyter-widgets/controls",
      "_model_module_version": "1.5.0",
      "_model_name": "HTMLModel",
      "_view_count": null,
      "_view_module": "@jupyter-widgets/controls",
      "_view_module_version": "1.5.0",
      "_view_name": "HTMLView",
      "description": "",
      "description_tooltip": null,
      "layout": "IPY_MODEL_c9ce8a712aa94a62930e589e063d9451",
      "placeholder": "​",
      "style": "IPY_MODEL_cdbbff5296014b9e9310bfa2cbc6f3e4",
      "value": ""
     }
    },
    "c9ce8a712aa94a62930e589e063d9451": {
     "model_module": "@jupyter-widgets/base",
     "model_module_version": "1.2.0",
     "model_name": "LayoutModel",
     "state": {
      "_model_module": "@jupyter-widgets/base",
      "_model_module_version": "1.2.0",
      "_model_name": "LayoutModel",
      "_view_count": null,
      "_view_module": "@jupyter-widgets/base",
      "_view_module_version": "1.2.0",
      "_view_name": "LayoutView",
      "align_content": null,
      "align_items": null,
      "align_self": null,
      "border": null,
      "bottom": null,
      "display": null,
      "flex": null,
      "flex_flow": null,
      "grid_area": null,
      "grid_auto_columns": null,
      "grid_auto_flow": null,
      "grid_auto_rows": null,
      "grid_column": null,
      "grid_gap": null,
      "grid_row": null,
      "grid_template_areas": null,
      "grid_template_columns": null,
      "grid_template_rows": null,
      "height": null,
      "justify_content": null,
      "justify_items": null,
      "left": null,
      "margin": null,
      "max_height": null,
      "max_width": null,
      "min_height": null,
      "min_width": null,
      "object_fit": null,
      "object_position": null,
      "order": null,
      "overflow": null,
      "overflow_x": null,
      "overflow_y": null,
      "padding": null,
      "right": null,
      "top": null,
      "visibility": null,
      "width": null
     }
    },
    "cdbbff5296014b9e9310bfa2cbc6f3e4": {
     "model_module": "@jupyter-widgets/controls",
     "model_module_version": "1.5.0",
     "model_name": "DescriptionStyleModel",
     "state": {
      "_model_module": "@jupyter-widgets/controls",
      "_model_module_version": "1.5.0",
      "_model_name": "DescriptionStyleModel",
      "_view_count": null,
      "_view_module": "@jupyter-widgets/base",
      "_view_module_version": "1.2.0",
      "_view_name": "StyleView",
      "description_width": ""
     }
    },
    "d6ad7aa37aac4782b35b1742a41eb842": {
     "model_module": "@jupyter-widgets/base",
     "model_module_version": "1.2.0",
     "model_name": "LayoutModel",
     "state": {
      "_model_module": "@jupyter-widgets/base",
      "_model_module_version": "1.2.0",
      "_model_name": "LayoutModel",
      "_view_count": null,
      "_view_module": "@jupyter-widgets/base",
      "_view_module_version": "1.2.0",
      "_view_name": "LayoutView",
      "align_content": null,
      "align_items": null,
      "align_self": null,
      "border": null,
      "bottom": null,
      "display": null,
      "flex": null,
      "flex_flow": null,
      "grid_area": null,
      "grid_auto_columns": null,
      "grid_auto_flow": null,
      "grid_auto_rows": null,
      "grid_column": null,
      "grid_gap": null,
      "grid_row": null,
      "grid_template_areas": null,
      "grid_template_columns": null,
      "grid_template_rows": null,
      "height": null,
      "justify_content": null,
      "justify_items": null,
      "left": null,
      "margin": null,
      "max_height": null,
      "max_width": null,
      "min_height": null,
      "min_width": null,
      "object_fit": null,
      "object_position": null,
      "order": null,
      "overflow": null,
      "overflow_x": null,
      "overflow_y": null,
      "padding": null,
      "right": null,
      "top": null,
      "visibility": null,
      "width": null
     }
    },
    "eedbf862859346cd8eb2c4b714ec4339": {
     "model_module": "@jupyter-widgets/base",
     "model_module_version": "1.2.0",
     "model_name": "LayoutModel",
     "state": {
      "_model_module": "@jupyter-widgets/base",
      "_model_module_version": "1.2.0",
      "_model_name": "LayoutModel",
      "_view_count": null,
      "_view_module": "@jupyter-widgets/base",
      "_view_module_version": "1.2.0",
      "_view_name": "LayoutView",
      "align_content": null,
      "align_items": null,
      "align_self": null,
      "border": null,
      "bottom": null,
      "display": null,
      "flex": null,
      "flex_flow": null,
      "grid_area": null,
      "grid_auto_columns": null,
      "grid_auto_flow": null,
      "grid_auto_rows": null,
      "grid_column": null,
      "grid_gap": null,
      "grid_row": null,
      "grid_template_areas": null,
      "grid_template_columns": null,
      "grid_template_rows": null,
      "height": null,
      "justify_content": null,
      "justify_items": null,
      "left": null,
      "margin": null,
      "max_height": null,
      "max_width": null,
      "min_height": null,
      "min_width": null,
      "object_fit": null,
      "object_position": null,
      "order": null,
      "overflow": null,
      "overflow_x": null,
      "overflow_y": null,
      "padding": null,
      "right": null,
      "top": null,
      "visibility": null,
      "width": null
     }
    },
    "f8367fa6a35d455ea9dae05904d6fa0c": {
     "model_module": "@jupyter-widgets/controls",
     "model_module_version": "1.5.0",
     "model_name": "HTMLModel",
     "state": {
      "_dom_classes": [],
      "_model_module": "@jupyter-widgets/controls",
      "_model_module_version": "1.5.0",
      "_model_name": "HTMLModel",
      "_view_count": null,
      "_view_module": "@jupyter-widgets/controls",
      "_view_module_version": "1.5.0",
      "_view_name": "HTMLView",
      "description": "",
      "description_tooltip": null,
      "layout": "IPY_MODEL_eedbf862859346cd8eb2c4b714ec4339",
      "placeholder": "​",
      "style": "IPY_MODEL_4669c685a80942fb8dc512e85a22b025",
      "value": " 170500096/? [00:19&lt;00:00, 50064953.08it/s]"
     }
    }
   }
  }
 },
 "nbformat": 4,
 "nbformat_minor": 1
}
